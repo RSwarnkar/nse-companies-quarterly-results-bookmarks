{
 "cells": [
  {
   "cell_type": "markdown",
   "metadata": {},
   "source": [
    "## Automated Google Search and Bookmark file Creator\n",
    "@author: Rajesh Swarnkar"
   ]
  },
  {
   "cell_type": "markdown",
   "metadata": {},
   "source": [
    "Need to install google search package [Ref](https://python-googlesearch.readthedocs.io/en/latest/): \n",
    "\n",
    "`!pip install google`\n",
    "\n",
    "```\n",
    "Collecting google\n",
    "  Downloading https://files.pythonhosted.org/packages/ac/35/17c9141c4ae21e9a29a43acdfd848e3e468a810517f862cad07977bf8fe9/google-3.0.0-py2.py3-none-any.whl (45kB)\n",
    "Requirement already satisfied: beautifulsoup4 in c:\\programdata\\anaconda3\\lib\\site-packages (from google) (4.8.0)\n",
    "Requirement already satisfied: soupsieve>=1.2 in c:\\programdata\\anaconda3\\lib\\site-packages (from beautifulsoup4->google) (1.9.3)\n",
    "Installing collected packages: google\n",
    "Successfully installed google-3.0.0\n",
    "```"
   ]
  },
  {
   "cell_type": "code",
   "execution_count": 14,
   "metadata": {},
   "outputs": [
    {
     "name": "stdout",
     "output_type": "stream",
     "text": [
      "https://www.drreddys.com/investors/reports-and-filings/quarterly-reports/\n",
      "https://www.drreddys.com/investors/presentations/presentations/\n",
      "https://www.moneycontrol.com/financials/drreddyslaboratories/results/quarterly-results/DRL\n",
      "https://www.bseindia.com/stock-share-price/drreddys-laboratories-ltd/drreddy/500124/financials-results/\n",
      "https://economictimes.indiatimes.com/dr-reddy's-laboratories-ltd/quarterly/companyid-13841.cms\n",
      "https://investor.apple.com/investor-relations/default.aspx\n",
      "https://www.kddi.com/english/corporate/ir/\n",
      "https://investors.fmc.com/home/default.aspx\n"
     ]
    }
   ],
   "source": [
    "import googlesearch\n",
    "\n",
    "company_name = \"DRREDDY\"\n",
    "results_per_page = 5\n",
    "num_count = 10\n",
    "\n",
    "\n",
    "search_results = googlesearch.search(\"investor relations quarterly financial\"+str(company_name), tld=\"co.in\", num=results_per_page, stop=num_count)\n",
    "for result in search_results:\n",
    "    print(result)\n"
   ]
  },
  {
   "cell_type": "code",
   "execution_count": null,
   "metadata": {},
   "outputs": [],
   "source": []
  }
 ],
 "metadata": {
  "kernelspec": {
   "display_name": "Python 3",
   "language": "python",
   "name": "python3"
  },
  "language_info": {
   "codemirror_mode": {
    "name": "ipython",
    "version": 3
   },
   "file_extension": ".py",
   "mimetype": "text/x-python",
   "name": "python",
   "nbconvert_exporter": "python",
   "pygments_lexer": "ipython3",
   "version": "3.7.4"
  }
 },
 "nbformat": 4,
 "nbformat_minor": 2
}
